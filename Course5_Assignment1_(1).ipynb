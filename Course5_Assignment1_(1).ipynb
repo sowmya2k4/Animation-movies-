{
  "cells": [
    {
      "cell_type": "markdown",
      "metadata": {
        "id": "view-in-github",
        "colab_type": "text"
      },
      "source": [
        "<a href=\"https://colab.research.google.com/github/sowmya2k4/Animation-movies-/blob/main/Course5_Assignment1_(1).ipynb\" target=\"_parent\"><img src=\"https://colab.research.google.com/assets/colab-badge.svg\" alt=\"Open In Colab\"/></a>"
      ]
    },
    {
      "cell_type": "markdown",
      "id": "9414ff5c",
      "metadata": {
        "id": "9414ff5c"
      },
      "source": [
        "# Course 5 Assignment 1\n",
        "\n",
        "**Title:** Mastering Control Structures, Loops, and Operators in Python  \n",
        "**Objective:** This assignment focuses on Python control structures, loops, nested loops, pattern programming, and operators.\n"
      ]
    },
    {
      "cell_type": "markdown",
      "id": "b72a0ec8",
      "metadata": {
        "id": "b72a0ec8"
      },
      "source": [
        "## Task 1: Largest of Three Numbers"
      ]
    },
    {
      "cell_type": "code",
      "execution_count": null,
      "id": "4e010b48",
      "metadata": {
        "id": "4e010b48",
        "outputId": "caf47495-4474-4d94-ad94-20d59abdce23",
        "colab": {
          "base_uri": "https://localhost:8080/"
        }
      },
      "outputs": [
        {
          "output_type": "stream",
          "name": "stdout",
          "text": [
            "Enter first number: 6\n",
            "Enter second number: 9\n",
            "Enter third number: 7\n",
            "The largest number is: 9\n"
          ]
        }
      ],
      "source": [
        "a = int(input(\"Enter first number: \"))\n",
        "b = int(input(\"Enter second number: \"))\n",
        "c = int(input(\"Enter third number: \"))\n",
        "\n",
        "if a >= b and a >= c:\n",
        "    largest = a\n",
        "elif b >= a and b >= c:\n",
        "    largest = b\n",
        "else:\n",
        "    largest = c\n",
        "\n",
        "print(\"The largest number is:\", largest)\n"
      ]
    },
    {
      "cell_type": "markdown",
      "id": "6cdc7375",
      "metadata": {
        "id": "6cdc7375"
      },
      "source": [
        "## Task 2: Even or Odd"
      ]
    },
    {
      "cell_type": "code",
      "execution_count": null,
      "id": "db664daa",
      "metadata": {
        "id": "db664daa",
        "outputId": "0b02ae27-6f2b-4f96-fadd-07f1af7a5b60",
        "colab": {
          "base_uri": "https://localhost:8080/"
        }
      },
      "outputs": [
        {
          "output_type": "stream",
          "name": "stdout",
          "text": [
            "Enter a number: 5\n",
            "The number is Odd.\n"
          ]
        }
      ],
      "source": [
        "num = int(input(\"Enter a number: \"))\n",
        "if num % 2 == 0:\n",
        "    print(\"The number is Even.\")\n",
        "else:\n",
        "    print(\"The number is Odd.\")\n"
      ]
    },
    {
      "cell_type": "markdown",
      "id": "34c9089f",
      "metadata": {
        "id": "34c9089f"
      },
      "source": [
        "## Task 3: Skip numbers divisible by 7 (1 to 100)"
      ]
    },
    {
      "cell_type": "code",
      "execution_count": null,
      "id": "599a30cb",
      "metadata": {
        "id": "599a30cb"
      },
      "outputs": [],
      "source": [
        "for i in range(1, 101):\n",
        "    if i % 7 == 0:\n",
        "        continue\n",
        "    print(i, end=\" \")\n",
        "print()\n"
      ]
    },
    {
      "cell_type": "markdown",
      "id": "09ac7eda",
      "metadata": {
        "id": "09ac7eda"
      },
      "source": [
        "## Task 4: Multiplication Table"
      ]
    },
    {
      "cell_type": "code",
      "execution_count": null,
      "id": "b07f3374",
      "metadata": {
        "id": "b07f3374"
      },
      "outputs": [],
      "source": [
        "n = int(input(\"Enter a number to print its multiplication table: \"))\n",
        "for i in range(1, 11):\n",
        "    print(f\"{n} x {i} = {n * i}\")\n"
      ]
    },
    {
      "cell_type": "markdown",
      "id": "480dfe3b",
      "metadata": {
        "id": "480dfe3b"
      },
      "source": [
        "## Task 5: Right-Angled Triangle Pattern"
      ]
    },
    {
      "cell_type": "code",
      "execution_count": null,
      "id": "ecb35a85",
      "metadata": {
        "id": "ecb35a85"
      },
      "outputs": [],
      "source": [
        "rows = int(input(\"Enter number of rows: \"))\n",
        "for i in range(1, rows + 1):\n",
        "    print('*' * i)\n"
      ]
    },
    {
      "cell_type": "markdown",
      "id": "0f7151d9",
      "metadata": {
        "id": "0f7151d9"
      },
      "source": [
        "## Task 6: Pattern 1234 Triangle"
      ]
    },
    {
      "cell_type": "code",
      "execution_count": null,
      "id": "16cac454",
      "metadata": {
        "id": "16cac454"
      },
      "outputs": [],
      "source": [
        "rows = 4\n",
        "for i in range(1, rows + 1):\n",
        "    for j in range(1, i + 1):\n",
        "        print(j, end=\"\")\n",
        "    print()\n"
      ]
    },
    {
      "cell_type": "markdown",
      "id": "42ee272e",
      "metadata": {
        "id": "42ee272e"
      },
      "source": [
        "## Task 7: Vowel or Consonant Checker"
      ]
    },
    {
      "cell_type": "code",
      "execution_count": null,
      "id": "70964331",
      "metadata": {
        "id": "70964331"
      },
      "outputs": [],
      "source": [
        "ch = input(\"Enter a character: \").lower()\n",
        "if ch in 'aeiou':\n",
        "    print(\"Vowel\")\n",
        "elif ch.isalpha():\n",
        "    print(\"Consonant\")\n",
        "else:\n",
        "    print(\"Not an alphabet\")\n"
      ]
    },
    {
      "cell_type": "markdown",
      "id": "9d097466",
      "metadata": {
        "id": "9d097466"
      },
      "source": [
        "## Task 8: Diamond Pattern"
      ]
    },
    {
      "cell_type": "code",
      "execution_count": null,
      "id": "37987f30",
      "metadata": {
        "id": "37987f30"
      },
      "outputs": [],
      "source": [
        "n = 5\n",
        "# Upper part\n",
        "for i in range(n):\n",
        "    print(' ' * (n - i - 1) + '*' * (2 * i + 1))\n",
        "# Lower part\n",
        "for i in range(n - 2, -1, -1):\n",
        "    print(' ' * (n - i - 1) + '*' * (2 * i + 1))\n"
      ]
    },
    {
      "cell_type": "markdown",
      "id": "f2e31502",
      "metadata": {
        "id": "f2e31502"
      },
      "source": [
        "## Task 9: Reverse Digits of a Number"
      ]
    },
    {
      "cell_type": "code",
      "execution_count": null,
      "id": "92ad74fc",
      "metadata": {
        "id": "92ad74fc"
      },
      "outputs": [],
      "source": [
        "num = int(input(\"Enter a number: \"))\n",
        "rev = 0\n",
        "while num > 0:\n",
        "    rev = rev * 10 + num % 10\n",
        "    num = num // 10\n",
        "print(\"Reversed number is:\", rev)\n"
      ]
    },
    {
      "cell_type": "markdown",
      "id": "60b40fa8",
      "metadata": {
        "id": "60b40fa8"
      },
      "source": [
        "## Task 10: Number Pyramid Pattern"
      ]
    },
    {
      "cell_type": "code",
      "execution_count": null,
      "id": "a503c9a2",
      "metadata": {
        "id": "a503c9a2"
      },
      "outputs": [],
      "source": [
        "rows = 5\n",
        "for i in range(1, rows + 1):\n",
        "    for j in range(1, i + 1):\n",
        "        print(j, end=\"\")\n",
        "    for j in range(i - 1, 0, -1):\n",
        "        print(j, end=\"\")\n",
        "    print()\n"
      ]
    }
  ],
  "metadata": {
    "colab": {
      "provenance": [],
      "include_colab_link": true
    },
    "language_info": {
      "name": "python"
    },
    "kernelspec": {
      "name": "python3",
      "display_name": "Python 3"
    }
  },
  "nbformat": 4,
  "nbformat_minor": 5
}